{
 "cells": [
  {
   "cell_type": "markdown",
   "id": "a7ad42af",
   "metadata": {},
   "source": [
    "# Quantum Entropy (QUE) – Results Replication Notebook (Authors' Code Only)\n",
    "\n",
    "This notebook **reuses the original authors' scripts** to replicate experiments discussed in the paper's results section.  \n",
    "No custom algorithm code is added—only calls into the provided scripts.\n",
    "\n",
    "**Note:** In Jupyter, we pass CLI-style arguments explicitly to the authors' `argparse` to avoid the `SystemExit: 2` error.\n"
   ]
  },
  {
   "cell_type": "code",
   "execution_count": null,
   "id": "4ebe627f",
   "metadata": {},
   "outputs": [],
   "source": [
    "# Imports from the authors' repository only\n",
    "import sys\n",
    "sys.path.append('.')\n",
    "\n",
    "from utils import parse_args\n",
    "import mean\n"
   ]
  },
  {
   "cell_type": "markdown",
   "id": "7619e311",
   "metadata": {},
   "source": [
    "## Synthetic Data – Varying $\\alpha$ (QUE vs baselines)"
   ]
  },
  {
   "cell_type": "code",
   "execution_count": null,
   "id": "6aa5d0cf",
   "metadata": {},
   "outputs": [],
   "source": [
    "# Explicit CLI args avoid ipykernel argv issues\n",
    "opt = parse_args([\"--experiment_type\", \"syn_lamb\",\n",
    "                  \"--use_std\", \"True\",\n",
    "                  \"--compute_scores_diff\", \"True\",\n",
    "                  \"--visualize_scores\", \"False\",\n",
    "                  \"--whiten\", \"True\"\n",
    "                 ])\n",
    "try:\n",
    "    mean.generate_and_score_lamb(opt, 'syn')\n",
    "except AttributeError:\n",
    "    mean.main(opt)  # fallback to main if helper not present\n"
   ]
  },
  {
   "cell_type": "markdown",
   "id": "0e6d0720",
   "metadata": {},
   "source": [
    "## InternetAds (tabular) Experiment"
   ]
  },
  {
   "cell_type": "code",
   "execution_count": null,
   "id": "dfdf5d11",
   "metadata": {},
   "outputs": [],
   "source": [
    "opt = parse_args([\"--experiment_type\", \"ads\",\n",
    "                   \"--use_std\", \"True\",\n",
    "                   \"--compute_scores_diff\", \"False\",\n",
    "                   \"--visualize_scores\", \"False\",\n",
    "                   \"--whiten\", \"False\"\n",
    "                  ])\n",
    "try:\n",
    "    mean.test_ads_data(opt)\n",
    "except AttributeError:\n",
    "    mean.main(opt)\n"
   ]
  },
  {
   "cell_type": "markdown",
   "id": "c89d585f",
   "metadata": {},
   "source": [
    "## Word Embeddings (GloVe) – Alpha Sweep"
   ]
  },
  {
   "cell_type": "code",
   "execution_count": null,
   "id": "c6838f1a",
   "metadata": {},
   "outputs": [],
   "source": [
    "opt = parse_args([\"--experiment_type\", \"text_lamb\",\n",
    "                   \"--use_std\", \"True\",\n",
    "                   \"--compute_scores_diff\", \"True\",\n",
    "                   \"--visualize_scores\", \"False\",\n",
    "                   \"--whiten\", \"True\"\n",
    "                  ])\n",
    "try:\n",
    "    mean.test_glove_data_lamb(opt)\n",
    "except AttributeError:\n",
    "    mean.main(opt)\n"
   ]
  },
  {
   "cell_type": "markdown",
   "id": "7b5c9758",
   "metadata": {},
   "source": [
    "## Word Embeddings (GloVe) – Vary Outlier Directions"
   ]
  },
  {
   "cell_type": "code",
   "execution_count": null,
   "id": "1299a896",
   "metadata": {},
   "outputs": [],
   "source": [
    "opt = parse_args([\"--experiment_type\", \"text_dirs\",\n",
    "                   \"--use_std\", \"True\",\n",
    "                   \"--compute_scores_diff\", \"False\",\n",
    "                   \"--visualize_scores\", \"False\",\n",
    "                   \"--whiten\", \"True\"\n",
    "                  ])\n",
    "try:\n",
    "    mean.test_glove_data_dirs(opt)\n",
    "except AttributeError:\n",
    "    mean.main(opt)\n"
   ]
  },
  {
   "cell_type": "markdown",
   "id": "22bfc21b",
   "metadata": {},
   "source": [
    "## CIFAR-10 \"Hot Pixels\" (Optional)"
   ]
  },
  {
   "cell_type": "code",
   "execution_count": null,
   "id": "574d2323",
   "metadata": {},
   "outputs": [],
   "source": [
    "# Optional: run pixel.py with CLI-like argv using runpy\n",
    "# import runpy, sys\n",
    "# saved = sys.argv[:]\n",
    "# try:\n",
    "#     sys.argv = [\"pixel.py\", \"--experiment_type\", \"image_lamb\"]\n",
    "#     runpy.run_path(\"pixel.py\", run_name=\"__main__\")\n",
    "# finally:\n",
    "#     sys.argv = saved\n"
   ]
  }
 ],
 "metadata": {},
 "nbformat": 4,
 "nbformat_minor": 5
}
